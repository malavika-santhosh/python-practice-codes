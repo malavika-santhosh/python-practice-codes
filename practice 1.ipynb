{
 "cells": [
  {
   "cell_type": "markdown",
   "id": "cb07bbc2",
   "metadata": {},
   "source": [
    "# NUMPY , PANDAS AND MATPLOTLIB"
   ]
  },
  {
   "cell_type": "markdown",
   "id": "546adb24",
   "metadata": {},
   "source": [
    "\n",
    "# PANDAS"
   ]
  },
  {
   "cell_type": "code",
   "execution_count": 2,
   "id": "7528ce84",
   "metadata": {},
   "outputs": [
    {
     "name": "stderr",
     "output_type": "stream",
     "text": [
      "/var/folders/r3/rhzxcc890rv1rs41ynytj24w0000gn/T/ipykernel_784/3295706055.py:9: FutureWarning: The default dtype for empty Series will be 'object' instead of 'float64' in a future version. Specify a dtype explicitly to silence this warning.\n",
      "  z=pd.Series(data3)\n"
     ]
    },
    {
     "ename": "TypeError",
     "evalue": "unhashable type: 'Series'",
     "output_type": "error",
     "traceback": [
      "\u001b[0;31m---------------------------------------------------------------------------\u001b[0m",
      "\u001b[0;31mTypeError\u001b[0m                                 Traceback (most recent call last)",
      "Cell \u001b[0;32mIn[2], line 11\u001b[0m\n\u001b[1;32m      9\u001b[0m z\u001b[38;5;241m=\u001b[39mpd\u001b[38;5;241m.\u001b[39mSeries(data3)\n\u001b[1;32m     10\u001b[0m h\u001b[38;5;241m=\u001b[39my\u001b[38;5;241m.\u001b[39mto_frame(y)\n\u001b[0;32m---> 11\u001b[0m \u001b[38;5;28mprint\u001b[39m(h)\n\u001b[1;32m     12\u001b[0m \u001b[38;5;28;01mif\u001b[39;00m x\u001b[38;5;241m.\u001b[39mempty\u001b[38;5;241m==\u001b[39m\u001b[38;5;241m1\u001b[39m:\n\u001b[1;32m     13\u001b[0m     \u001b[38;5;28mprint\u001b[39m(\u001b[38;5;124m'\u001b[39m\u001b[38;5;124mthe empty data is: \u001b[39m\u001b[38;5;124m'\u001b[39m,data1)\n",
      "File \u001b[0;32m~/anaconda3/lib/python3.11/site-packages/pandas/core/frame.py:1064\u001b[0m, in \u001b[0;36mDataFrame.__repr__\u001b[0;34m(self)\u001b[0m\n\u001b[1;32m   1061\u001b[0m     \u001b[38;5;28;01mreturn\u001b[39;00m buf\u001b[38;5;241m.\u001b[39mgetvalue()\n\u001b[1;32m   1063\u001b[0m repr_params \u001b[38;5;241m=\u001b[39m fmt\u001b[38;5;241m.\u001b[39mget_dataframe_repr_params()\n\u001b[0;32m-> 1064\u001b[0m \u001b[38;5;28;01mreturn\u001b[39;00m \u001b[38;5;28mself\u001b[39m\u001b[38;5;241m.\u001b[39mto_string(\u001b[38;5;241m*\u001b[39m\u001b[38;5;241m*\u001b[39mrepr_params)\n",
      "File \u001b[0;32m~/anaconda3/lib/python3.11/site-packages/pandas/core/frame.py:1245\u001b[0m, in \u001b[0;36mDataFrame.to_string\u001b[0;34m(self, buf, columns, col_space, header, index, na_rep, formatters, float_format, sparsify, index_names, justify, max_rows, max_cols, show_dimensions, decimal, line_width, min_rows, max_colwidth, encoding)\u001b[0m\n\u001b[1;32m   1226\u001b[0m \u001b[38;5;28;01mwith\u001b[39;00m option_context(\u001b[38;5;124m\"\u001b[39m\u001b[38;5;124mdisplay.max_colwidth\u001b[39m\u001b[38;5;124m\"\u001b[39m, max_colwidth):\n\u001b[1;32m   1227\u001b[0m     formatter \u001b[38;5;241m=\u001b[39m fmt\u001b[38;5;241m.\u001b[39mDataFrameFormatter(\n\u001b[1;32m   1228\u001b[0m         \u001b[38;5;28mself\u001b[39m,\n\u001b[1;32m   1229\u001b[0m         columns\u001b[38;5;241m=\u001b[39mcolumns,\n\u001b[0;32m   (...)\u001b[0m\n\u001b[1;32m   1243\u001b[0m         decimal\u001b[38;5;241m=\u001b[39mdecimal,\n\u001b[1;32m   1244\u001b[0m     )\n\u001b[0;32m-> 1245\u001b[0m     \u001b[38;5;28;01mreturn\u001b[39;00m fmt\u001b[38;5;241m.\u001b[39mDataFrameRenderer(formatter)\u001b[38;5;241m.\u001b[39mto_string(\n\u001b[1;32m   1246\u001b[0m         buf\u001b[38;5;241m=\u001b[39mbuf,\n\u001b[1;32m   1247\u001b[0m         encoding\u001b[38;5;241m=\u001b[39mencoding,\n\u001b[1;32m   1248\u001b[0m         line_width\u001b[38;5;241m=\u001b[39mline_width,\n\u001b[1;32m   1249\u001b[0m     )\n",
      "File \u001b[0;32m~/anaconda3/lib/python3.11/site-packages/pandas/io/formats/format.py:1136\u001b[0m, in \u001b[0;36mDataFrameRenderer.to_string\u001b[0;34m(self, buf, encoding, line_width)\u001b[0m\n\u001b[1;32m   1133\u001b[0m \u001b[38;5;28;01mfrom\u001b[39;00m \u001b[38;5;21;01mpandas\u001b[39;00m\u001b[38;5;21;01m.\u001b[39;00m\u001b[38;5;21;01mio\u001b[39;00m\u001b[38;5;21;01m.\u001b[39;00m\u001b[38;5;21;01mformats\u001b[39;00m\u001b[38;5;21;01m.\u001b[39;00m\u001b[38;5;21;01mstring\u001b[39;00m \u001b[38;5;28;01mimport\u001b[39;00m StringFormatter\n\u001b[1;32m   1135\u001b[0m string_formatter \u001b[38;5;241m=\u001b[39m StringFormatter(\u001b[38;5;28mself\u001b[39m\u001b[38;5;241m.\u001b[39mfmt, line_width\u001b[38;5;241m=\u001b[39mline_width)\n\u001b[0;32m-> 1136\u001b[0m string \u001b[38;5;241m=\u001b[39m string_formatter\u001b[38;5;241m.\u001b[39mto_string()\n\u001b[1;32m   1137\u001b[0m \u001b[38;5;28;01mreturn\u001b[39;00m save_to_buffer(string, buf\u001b[38;5;241m=\u001b[39mbuf, encoding\u001b[38;5;241m=\u001b[39mencoding)\n",
      "File \u001b[0;32m~/anaconda3/lib/python3.11/site-packages/pandas/io/formats/string.py:30\u001b[0m, in \u001b[0;36mStringFormatter.to_string\u001b[0;34m(self)\u001b[0m\n\u001b[1;32m     29\u001b[0m \u001b[38;5;28;01mdef\u001b[39;00m \u001b[38;5;21mto_string\u001b[39m(\u001b[38;5;28mself\u001b[39m) \u001b[38;5;241m-\u001b[39m\u001b[38;5;241m>\u001b[39m \u001b[38;5;28mstr\u001b[39m:\n\u001b[0;32m---> 30\u001b[0m     text \u001b[38;5;241m=\u001b[39m \u001b[38;5;28mself\u001b[39m\u001b[38;5;241m.\u001b[39m_get_string_representation()\n\u001b[1;32m     31\u001b[0m     \u001b[38;5;28;01mif\u001b[39;00m \u001b[38;5;28mself\u001b[39m\u001b[38;5;241m.\u001b[39mfmt\u001b[38;5;241m.\u001b[39mshould_show_dimensions:\n\u001b[1;32m     32\u001b[0m         text \u001b[38;5;241m=\u001b[39m \u001b[38;5;124m\"\u001b[39m\u001b[38;5;124m\"\u001b[39m\u001b[38;5;241m.\u001b[39mjoin([text, \u001b[38;5;28mself\u001b[39m\u001b[38;5;241m.\u001b[39mfmt\u001b[38;5;241m.\u001b[39mdimensions_info])\n",
      "File \u001b[0;32m~/anaconda3/lib/python3.11/site-packages/pandas/io/formats/string.py:45\u001b[0m, in \u001b[0;36mStringFormatter._get_string_representation\u001b[0;34m(self)\u001b[0m\n\u001b[1;32m     42\u001b[0m \u001b[38;5;28;01mif\u001b[39;00m \u001b[38;5;28mself\u001b[39m\u001b[38;5;241m.\u001b[39mfmt\u001b[38;5;241m.\u001b[39mframe\u001b[38;5;241m.\u001b[39mempty:\n\u001b[1;32m     43\u001b[0m     \u001b[38;5;28;01mreturn\u001b[39;00m \u001b[38;5;28mself\u001b[39m\u001b[38;5;241m.\u001b[39m_empty_info_line\n\u001b[0;32m---> 45\u001b[0m strcols \u001b[38;5;241m=\u001b[39m \u001b[38;5;28mself\u001b[39m\u001b[38;5;241m.\u001b[39m_get_strcols()\n\u001b[1;32m     47\u001b[0m \u001b[38;5;28;01mif\u001b[39;00m \u001b[38;5;28mself\u001b[39m\u001b[38;5;241m.\u001b[39mline_width \u001b[38;5;129;01mis\u001b[39;00m \u001b[38;5;28;01mNone\u001b[39;00m:\n\u001b[1;32m     48\u001b[0m     \u001b[38;5;66;03m# no need to wrap around just print the whole frame\u001b[39;00m\n\u001b[1;32m     49\u001b[0m     \u001b[38;5;28;01mreturn\u001b[39;00m \u001b[38;5;28mself\u001b[39m\u001b[38;5;241m.\u001b[39madj\u001b[38;5;241m.\u001b[39madjoin(\u001b[38;5;241m1\u001b[39m, \u001b[38;5;241m*\u001b[39mstrcols)\n",
      "File \u001b[0;32m~/anaconda3/lib/python3.11/site-packages/pandas/io/formats/string.py:36\u001b[0m, in \u001b[0;36mStringFormatter._get_strcols\u001b[0;34m(self)\u001b[0m\n\u001b[1;32m     35\u001b[0m \u001b[38;5;28;01mdef\u001b[39;00m \u001b[38;5;21m_get_strcols\u001b[39m(\u001b[38;5;28mself\u001b[39m) \u001b[38;5;241m-\u001b[39m\u001b[38;5;241m>\u001b[39m \u001b[38;5;28mlist\u001b[39m[\u001b[38;5;28mlist\u001b[39m[\u001b[38;5;28mstr\u001b[39m]]:\n\u001b[0;32m---> 36\u001b[0m     strcols \u001b[38;5;241m=\u001b[39m \u001b[38;5;28mself\u001b[39m\u001b[38;5;241m.\u001b[39mfmt\u001b[38;5;241m.\u001b[39mget_strcols()\n\u001b[1;32m     37\u001b[0m     \u001b[38;5;28;01mif\u001b[39;00m \u001b[38;5;28mself\u001b[39m\u001b[38;5;241m.\u001b[39mfmt\u001b[38;5;241m.\u001b[39mis_truncated:\n\u001b[1;32m     38\u001b[0m         strcols \u001b[38;5;241m=\u001b[39m \u001b[38;5;28mself\u001b[39m\u001b[38;5;241m.\u001b[39m_insert_dot_separators(strcols)\n",
      "File \u001b[0;32m~/anaconda3/lib/python3.11/site-packages/pandas/io/formats/format.py:617\u001b[0m, in \u001b[0;36mDataFrameFormatter.get_strcols\u001b[0;34m(self)\u001b[0m\n\u001b[1;32m    613\u001b[0m \u001b[38;5;28;01mdef\u001b[39;00m \u001b[38;5;21mget_strcols\u001b[39m(\u001b[38;5;28mself\u001b[39m) \u001b[38;5;241m-\u001b[39m\u001b[38;5;241m>\u001b[39m \u001b[38;5;28mlist\u001b[39m[\u001b[38;5;28mlist\u001b[39m[\u001b[38;5;28mstr\u001b[39m]]:\n\u001b[1;32m    614\u001b[0m \u001b[38;5;250m    \u001b[39m\u001b[38;5;124;03m\"\"\"\u001b[39;00m\n\u001b[1;32m    615\u001b[0m \u001b[38;5;124;03m    Render a DataFrame to a list of columns (as lists of strings).\u001b[39;00m\n\u001b[1;32m    616\u001b[0m \u001b[38;5;124;03m    \"\"\"\u001b[39;00m\n\u001b[0;32m--> 617\u001b[0m     strcols \u001b[38;5;241m=\u001b[39m \u001b[38;5;28mself\u001b[39m\u001b[38;5;241m.\u001b[39m_get_strcols_without_index()\n\u001b[1;32m    619\u001b[0m     \u001b[38;5;28;01mif\u001b[39;00m \u001b[38;5;28mself\u001b[39m\u001b[38;5;241m.\u001b[39mindex:\n\u001b[1;32m    620\u001b[0m         str_index \u001b[38;5;241m=\u001b[39m \u001b[38;5;28mself\u001b[39m\u001b[38;5;241m.\u001b[39m_get_formatted_index(\u001b[38;5;28mself\u001b[39m\u001b[38;5;241m.\u001b[39mtr_frame)\n",
      "File \u001b[0;32m~/anaconda3/lib/python3.11/site-packages/pandas/io/formats/format.py:872\u001b[0m, in \u001b[0;36mDataFrameFormatter._get_strcols_without_index\u001b[0;34m(self)\u001b[0m\n\u001b[1;32m    870\u001b[0m     str_columns \u001b[38;5;241m=\u001b[39m [[label] \u001b[38;5;28;01mfor\u001b[39;00m label \u001b[38;5;129;01min\u001b[39;00m \u001b[38;5;28mself\u001b[39m\u001b[38;5;241m.\u001b[39mheader]\n\u001b[1;32m    871\u001b[0m \u001b[38;5;28;01melse\u001b[39;00m:\n\u001b[0;32m--> 872\u001b[0m     str_columns \u001b[38;5;241m=\u001b[39m \u001b[38;5;28mself\u001b[39m\u001b[38;5;241m.\u001b[39m_get_formatted_column_labels(\u001b[38;5;28mself\u001b[39m\u001b[38;5;241m.\u001b[39mtr_frame)\n\u001b[1;32m    874\u001b[0m \u001b[38;5;28;01mif\u001b[39;00m \u001b[38;5;28mself\u001b[39m\u001b[38;5;241m.\u001b[39mshow_row_idx_names:\n\u001b[1;32m    875\u001b[0m     \u001b[38;5;28;01mfor\u001b[39;00m x \u001b[38;5;129;01min\u001b[39;00m str_columns:\n",
      "File \u001b[0;32m~/anaconda3/lib/python3.11/site-packages/pandas/io/formats/format.py:953\u001b[0m, in \u001b[0;36mDataFrameFormatter._get_formatted_column_labels\u001b[0;34m(self, frame)\u001b[0m\n\u001b[1;32m    951\u001b[0m     dtypes \u001b[38;5;241m=\u001b[39m \u001b[38;5;28mself\u001b[39m\u001b[38;5;241m.\u001b[39mframe\u001b[38;5;241m.\u001b[39mdtypes\n\u001b[1;32m    952\u001b[0m     need_leadsp \u001b[38;5;241m=\u001b[39m \u001b[38;5;28mdict\u001b[39m(\u001b[38;5;28mzip\u001b[39m(fmt_columns, \u001b[38;5;28mmap\u001b[39m(is_numeric_dtype, dtypes)))\n\u001b[0;32m--> 953\u001b[0m     str_columns \u001b[38;5;241m=\u001b[39m [\n\u001b[1;32m    954\u001b[0m         [\u001b[38;5;124m\"\u001b[39m\u001b[38;5;124m \u001b[39m\u001b[38;5;124m\"\u001b[39m \u001b[38;5;241m+\u001b[39m x \u001b[38;5;28;01mif\u001b[39;00m \u001b[38;5;129;01mnot\u001b[39;00m \u001b[38;5;28mself\u001b[39m\u001b[38;5;241m.\u001b[39m_get_formatter(i) \u001b[38;5;129;01mand\u001b[39;00m need_leadsp[x] \u001b[38;5;28;01melse\u001b[39;00m x]\n\u001b[1;32m    955\u001b[0m         \u001b[38;5;28;01mfor\u001b[39;00m i, x \u001b[38;5;129;01min\u001b[39;00m \u001b[38;5;28menumerate\u001b[39m(fmt_columns)\n\u001b[1;32m    956\u001b[0m     ]\n\u001b[1;32m    957\u001b[0m \u001b[38;5;66;03m# self.str_columns = str_columns\u001b[39;00m\n\u001b[1;32m    958\u001b[0m \u001b[38;5;28;01mreturn\u001b[39;00m str_columns\n",
      "File \u001b[0;32m~/anaconda3/lib/python3.11/site-packages/pandas/io/formats/format.py:954\u001b[0m, in \u001b[0;36m<listcomp>\u001b[0;34m(.0)\u001b[0m\n\u001b[1;32m    951\u001b[0m     dtypes \u001b[38;5;241m=\u001b[39m \u001b[38;5;28mself\u001b[39m\u001b[38;5;241m.\u001b[39mframe\u001b[38;5;241m.\u001b[39mdtypes\n\u001b[1;32m    952\u001b[0m     need_leadsp \u001b[38;5;241m=\u001b[39m \u001b[38;5;28mdict\u001b[39m(\u001b[38;5;28mzip\u001b[39m(fmt_columns, \u001b[38;5;28mmap\u001b[39m(is_numeric_dtype, dtypes)))\n\u001b[1;32m    953\u001b[0m     str_columns \u001b[38;5;241m=\u001b[39m [\n\u001b[0;32m--> 954\u001b[0m         [\u001b[38;5;124m\"\u001b[39m\u001b[38;5;124m \u001b[39m\u001b[38;5;124m\"\u001b[39m \u001b[38;5;241m+\u001b[39m x \u001b[38;5;28;01mif\u001b[39;00m \u001b[38;5;129;01mnot\u001b[39;00m \u001b[38;5;28mself\u001b[39m\u001b[38;5;241m.\u001b[39m_get_formatter(i) \u001b[38;5;129;01mand\u001b[39;00m need_leadsp[x] \u001b[38;5;28;01melse\u001b[39;00m x]\n\u001b[1;32m    955\u001b[0m         \u001b[38;5;28;01mfor\u001b[39;00m i, x \u001b[38;5;129;01min\u001b[39;00m \u001b[38;5;28menumerate\u001b[39m(fmt_columns)\n\u001b[1;32m    956\u001b[0m     ]\n\u001b[1;32m    957\u001b[0m \u001b[38;5;66;03m# self.str_columns = str_columns\u001b[39;00m\n\u001b[1;32m    958\u001b[0m \u001b[38;5;28;01mreturn\u001b[39;00m str_columns\n",
      "File \u001b[0;32m~/anaconda3/lib/python3.11/site-packages/pandas/io/formats/format.py:917\u001b[0m, in \u001b[0;36mDataFrameFormatter._get_formatter\u001b[0;34m(self, i)\u001b[0m\n\u001b[1;32m    915\u001b[0m \u001b[38;5;28;01mif\u001b[39;00m is_integer(i) \u001b[38;5;129;01mand\u001b[39;00m i \u001b[38;5;129;01mnot\u001b[39;00m \u001b[38;5;129;01min\u001b[39;00m \u001b[38;5;28mself\u001b[39m\u001b[38;5;241m.\u001b[39mcolumns:\n\u001b[1;32m    916\u001b[0m     i \u001b[38;5;241m=\u001b[39m \u001b[38;5;28mself\u001b[39m\u001b[38;5;241m.\u001b[39mcolumns[i]\n\u001b[0;32m--> 917\u001b[0m \u001b[38;5;28;01mreturn\u001b[39;00m \u001b[38;5;28mself\u001b[39m\u001b[38;5;241m.\u001b[39mformatters\u001b[38;5;241m.\u001b[39mget(i, \u001b[38;5;28;01mNone\u001b[39;00m)\n",
      "\u001b[0;31mTypeError\u001b[0m: unhashable type: 'Series'"
     ]
    }
   ],
   "source": [
    "#1 to find the empty data series\n",
    "import pandas as pd\n",
    "import numpy as np\n",
    "data1=[1,3,5,np.NaN]\n",
    "data2=[4,0,1]\n",
    "data3=[]\n",
    "x=pd.Series(data1)\n",
    "y=pd.Series(data2)\n",
    "z=pd.Series(data3)\n",
    "h=y.to_frame(y)\n",
    "print(h)\n",
    "if x.empty==1:\n",
    "    print('the empty data is: ',data1)\n",
    "elif y.empty==1:\n",
    "    print('the empty set is: ',datae)\n",
    "else:\n",
    "    print('the empty set is: ',data3)\n"
   ]
  },
  {
   "cell_type": "code",
   "execution_count": 24,
   "id": "4ff3b700",
   "metadata": {},
   "outputs": [
    {
     "name": "stdout",
     "output_type": "stream",
     "text": [
      "0    5.0\n",
      "1    3.0\n",
      "2    6.0\n",
      "3    NaN\n",
      "dtype: float64\n"
     ]
    }
   ],
   "source": [
    "#2 to combine 2 datas after removing null value\n",
    "import pandas as pd\n",
    "import numpy as np\n",
    "data1=[1,3,5,np.NaN]\n",
    "data2=[4,0,1]\n",
    "x=pd.Series(data1)\n",
    "y=pd.Series(data2)\n",
    "x=x.fillna(0)\n",
    "x = x.combine(y, lambda a, b: a + b if not np.isnan(a) else b)\n",
    "j=pd.Series(x)\n",
    "print(j)"
   ]
  },
  {
   "cell_type": "code",
   "execution_count": 29,
   "id": "6fd312dd",
   "metadata": {},
   "outputs": [
    {
     "name": "stdout",
     "output_type": "stream",
     "text": [
      "\n",
      " the one diamentional data is: \n",
      " \n",
      " amul            100\n",
      "sweets           25\n",
      "chatts         1000\n",
      "treditional      50\n",
      "dtype: int64\n",
      "                0\n",
      "amul          100\n",
      "sweets         25\n",
      "chatts       1000\n",
      "treditional    50\n"
     ]
    }
   ],
   "source": [
    "#3 converting series to data frame\n",
    "import pandas as pd\n",
    "data={'amul':100,'sweets':25,'chatts':1000,'treditional':50}\n",
    "series=pd.Series(data)\n",
    "print('\\n the one diamentional data is: \\n','\\n',series)\n",
    "df=series.to_frame()\n",
    "print(df)"
   ]
  },
  {
   "cell_type": "code",
   "execution_count": 30,
   "id": "9253db85",
   "metadata": {},
   "outputs": [
    {
     "name": "stdout",
     "output_type": "stream",
     "text": [
      "--- Series to DataFrame Converter ---\n",
      "Enter the key-value pairs for the Series and Enter 'finish' for key to stop\n",
      "Enter the number of elements in the Series: 3\n",
      "Enter key 1: ana\n",
      "Enter value for ana: 4\n",
      "Enter key 2: kakka\n",
      "Enter value for kakka: 2\n",
      "Enter key 3: jan\n",
      "Enter value for jan: 8\n",
      "\n",
      "Series:\n",
      "ana      4\n",
      "kakka    2\n",
      "jan      8\n",
      "dtype: int64\n",
      "\n",
      "DataFrame:\n",
      "       0\n",
      "ana    4\n",
      "kakka  2\n",
      "jan    8\n"
     ]
    }
   ],
   "source": [
    "#4 application level series to data frame convertion\n",
    "import pandas as pd\n",
    "def seriesnew():\n",
    "    data = {}\n",
    "    elements = int(input(\"Enter the number of elements in the Series: \"))\n",
    "    for i in range(elements):\n",
    "        key = input(f\"Enter key {i + 1}: \")\n",
    "        value = int(input(f\"Enter value for {key}: \"))\n",
    "        data[key] = value\n",
    "    return pd.Series(data)\n",
    "\n",
    "def main():\n",
    "    print(\"--- Series to DataFrame Converter ---\")\n",
    "    print(\"Enter the key-value pairs for the Series and Enter 'finish' for key to stop\")\n",
    "\n",
    "    s = seriesnew()\n",
    "    print(\"\\nSeries:\")\n",
    "    print(s)\n",
    "\n",
    "    df = s.to_frame()\n",
    "    print(\"\\nDataFrame:\")\n",
    "    print(df)\n",
    "\n",
    "if __name__ == \"__main__\":\n",
    "    main()"
   ]
  },
  {
   "cell_type": "code",
   "execution_count": 34,
   "id": "d542b29f",
   "metadata": {},
   "outputs": [
    {
     "name": "stdout",
     "output_type": "stream",
     "text": [
      "Todays date is: \n",
      "2023-11-03 00:00:00\n"
     ]
    }
   ],
   "source": [
    "#5 getting current date \n",
    "import pandas as pd\n",
    "from datetime import date\n",
    "moment=pd.to_datetime(str(date.today()),format='%Y-%m-%d')\n",
    "print('Todays date is: ')\n",
    "print(moment)"
   ]
  },
  {
   "cell_type": "code",
   "execution_count": 39,
   "id": "5281c6a3",
   "metadata": {},
   "outputs": [
    {
     "name": "stdout",
     "output_type": "stream",
     "text": [
      "\n",
      "==the original data is shown below==\n",
      "\n",
      " 0     2\n",
      "1     5\n",
      "2     1\n",
      "3     7\n",
      "4     4\n",
      "5     6\n",
      "6     9\n",
      "7     5\n",
      "8     1\n",
      "9     2\n",
      "10    3\n",
      "11    6\n",
      "12    8\n",
      "dtype: int64\n",
      "\n",
      "==the new subset created form original data is shown below==\n",
      "\n",
      " 1     5\n",
      "3     7\n",
      "4     4\n",
      "5     6\n",
      "6     9\n",
      "7     5\n",
      "11    6\n",
      "12    8\n",
      "dtype: int64\n"
     ]
    }
   ],
   "source": [
    "#6 creating a subset with n existing data\n",
    "import pandas as pd\n",
    "data=[2,5,1,7,4,6,9,5,1,2,3,6,8]\n",
    "s=pd.Series(data)\n",
    "print('\\n==the original data is shown below==')\n",
    "print('\\n',s)\n",
    "n=3\n",
    "new_data=s[s>n]\n",
    "print('\\n==the new subset created form original data is shown below==')\n",
    "print('\\n',new_data)"
   ]
  },
  {
   "cell_type": "code",
   "execution_count": 52,
   "id": "6d7984aa",
   "metadata": {},
   "outputs": [
    {
     "name": "stdout",
     "output_type": "stream",
     "text": [
      "\n",
      "the first series\n",
      "\n",
      "[4, 5, 1, 2, 3, 9]\n",
      "\n",
      "the second series\n",
      "\n",
      "[5, 0, 1, 5, 6, 3, 7, 9, 2]\n",
      "\n",
      " the union of 2 sets are : \n",
      "\n",
      " 0    0\n",
      "1    1\n",
      "2    2\n",
      "3    3\n",
      "4    4\n",
      "5    5\n",
      "6    6\n",
      "7    7\n",
      "8    9\n",
      "dtype: int64\n",
      "\n",
      " the intersect of 2 sets are : \n",
      "\n",
      " 0    1\n",
      "1    2\n",
      "2    3\n",
      "3    5\n",
      "4    9\n",
      "dtype: int64\n",
      "\n",
      " the unique elements from 2 sets are : \n",
      "\n",
      " 0    0\n",
      "4    4\n",
      "6    6\n",
      "7    7\n",
      "dtype: int64 \n",
      "\n"
     ]
    }
   ],
   "source": [
    "#7 program to get items which are not common in both the series\n",
    "import pandas as pd\n",
    "import numpy as np\n",
    "s1=[4,5,1,2,3,9]\n",
    "s2=[5,0,1,5,6,3,7,9,2]\n",
    "print('\\nthe first series\\n')\n",
    "print(s1)\n",
    "print('\\nthe second series\\n')\n",
    "print(s2)\n",
    "s11=pd.Series(np.union1d(s1,s2))\n",
    "print('\\n the union of 2 sets are : ')\n",
    "print('\\n',s11)\n",
    "print('\\n the intersect of 2 sets are : ')\n",
    "print('\\n',s22)\n",
    "s22=pd.Series(np.intersect1d(s1,s2))\n",
    "result=s11[~s11. isin (s22)]\n",
    "print('\\n the unique elements from 2 sets are : ')\n",
    "print('\\n',result,'\\n')\n"
   ]
  },
  {
   "cell_type": "code",
   "execution_count": 60,
   "id": "33564228",
   "metadata": {},
   "outputs": [
    {
     "name": "stdout",
     "output_type": "stream",
     "text": [
      "\n",
      " original data is\n",
      "\n",
      " 0    Arun\n",
      "1       x\n",
      "2       y\n",
      "3     NaN\n",
      "4     xyz\n",
      "5    None\n",
      "6     cat\n",
      "7       b\n",
      "dtype: object\n",
      "\n",
      " in upper case \n",
      "\n",
      "\n",
      " 0    ARUN\n",
      "1       X\n",
      "2       Y\n",
      "3     NaN\n",
      "4     XYZ\n",
      "5    None\n",
      "6     CAT\n",
      "7       B\n",
      "dtype: object\n",
      "\n",
      " in lower case \n",
      "\n",
      "\n",
      " 0    arun\n",
      "1       x\n",
      "2       y\n",
      "3     NaN\n",
      "4     xyz\n",
      "5    None\n",
      "6     cat\n",
      "7       b\n",
      "dtype: object\n",
      "\n",
      " legth of each string \n",
      "\n",
      "\n",
      " 0    4.0\n",
      "1    1.0\n",
      "2    1.0\n",
      "3    NaN\n",
      "4    3.0\n",
      "5    NaN\n",
      "6    3.0\n",
      "7    1.0\n",
      "dtype: float64\n"
     ]
    }
   ],
   "source": [
    "#8 to convert the string to upper case,lower case and to gind the legth of each strings\n",
    "import pandas as pd\n",
    "import numpy as np\n",
    "data=pd.Series(['Arun','x','y',np.NaN,'xyz',None,'cat','b'])\n",
    "print(\"\\n original data is\")\n",
    "print('\\n',data)\n",
    "upp=data.str.upper()\n",
    "print(\"\\n in upper case \\n\")\n",
    "print('\\n',upp)\n",
    "loww=data.str.lower()\n",
    "print(\"\\n in lower case \\n\")\n",
    "print('\\n',loww)\n",
    "length=data.str.len()\n",
    "print(\"\\n legth of each string \\n\")\n",
    "print('\\n',length)"
   ]
  },
  {
   "cell_type": "code",
   "execution_count": 67,
   "id": "f9dbab2f",
   "metadata": {},
   "outputs": [
    {
     "name": "stdout",
     "output_type": "stream",
     "text": [
      "  value\n",
      "0    10\n",
      "1   100\n",
      "2    25\n",
      "3    89\n",
      "4   100\n",
      "\n",
      " add zeros\n",
      "\n",
      "  value\n",
      "0  0010\n",
      "1  0100\n",
      "2  0025\n",
      "3  0089\n",
      "4  0100\n"
     ]
    }
   ],
   "source": [
    "#9 convert all the given values into 4 digit numbers\n",
    "\n",
    "import pandas as pd\n",
    "values={'value':['10','100','25','89','100']}\n",
    "df=pd.DataFrame(values)\n",
    "print(df)\n",
    "print('\\n add zeros\\n')\n",
    "df['value']=list(map(lambda x:x.zfill(4),df['value']))\n",
    "print(df)\n"
   ]
  },
  {
   "cell_type": "code",
   "execution_count": 72,
   "id": "250d9ef1",
   "metadata": {},
   "outputs": [
    {
     "name": "stdout",
     "output_type": "stream",
     "text": [
      "Select specific columns:\n",
      "        name  score\n",
      "a  Anastasia   12.5\n",
      "b       Dima    9.0\n",
      "c  Katherine   16.5\n",
      "d      James    NaN\n",
      "e      Emily    9.0\n",
      "f    Michael   20.0\n",
      "g    Matthew   14.5\n",
      "h      Laura    NaN\n",
      "i      Kevin    8.0\n",
      "j      Jonas   19.0\n"
     ]
    }
   ],
   "source": [
    "#10\n",
    "import pandas as pd\n",
    "import numpy as np\n",
    "exam_data  = {'name': ['Anastasia', 'Dima', 'Katherine', 'James', 'Emily', 'Michael', 'Matthew', 'Laura', 'Kevin', 'Jonas'],\n",
    "        'score': [12.5, 9, 16.5, np.nan, 9, 20, 14.5, np.nan, 8, 19],\n",
    "        'attempts': [1, 3, 2, 3, 2, 3, 1, 1, 2, 1],\n",
    "        'qualify': ['yes', 'no', 'yes', 'no', 'no', 'yes', 'yes', 'no', 'no', 'yes']}\n",
    "labels = ['a', 'b', 'c', 'd', 'e', 'f', 'g', 'h', 'i', 'j']\n",
    "\n",
    "df = pd.DataFrame(exam_data , index=labels)\n",
    "print(\"Select specific columns:\")\n",
    "print(df[['name', 'score']])\n",
    "\n"
   ]
  },
  {
   "cell_type": "markdown",
   "id": "ac68abce",
   "metadata": {},
   "source": [
    "# NUMPY"
   ]
  },
  {
   "cell_type": "code",
   "execution_count": 74,
   "id": "5644e2ba",
   "metadata": {},
   "outputs": [
    {
     "name": "stdout",
     "output_type": "stream",
     "text": [
      "Original array\n",
      "[  1. 829.   7.  nan   0.  nan  inf]\n",
      "Test element-wise for NaN:\n",
      "[False False False  True False  True False]\n"
     ]
    }
   ],
   "source": [
    "#1 Check for the presence of NaN\n",
    "import numpy as np\n",
    "data = np.array([1,829,7,np.nan, 0, np.nan, np.inf])\n",
    "print(\"Original array\")\n",
    "print(data)\n",
    "print(\"Test element-wise for NaN:\")\n",
    "print(np.isnan(data))"
   ]
  },
  {
   "cell_type": "code",
   "execution_count": 76,
   "id": "5a8cc134",
   "metadata": {},
   "outputs": [
    {
     "name": "stdout",
     "output_type": "stream",
     "text": [
      "Original numbers:\n",
      "[ 1  5  2 -1 -9 10]\n",
      "[10  2  5 -1 -9 10]\n",
      "Comparison:\n",
      "[False False False  True  True  True]\n"
     ]
    }
   ],
   "source": [
    "#2 comparison between to data\n",
    "import numpy as np\n",
    "x = np.array([1,5,2,-1,-9,10])\n",
    "y = np.array([10,2,5,-1,-9,10])\n",
    "print(\"Original numbers:\")\n",
    "print(x)\n",
    "print(y)\n",
    "print(\"Comparison:\")\n",
    "print(np.equal(x, y))\n"
   ]
  },
  {
   "cell_type": "code",
   "execution_count": 79,
   "id": "1cc4047c",
   "metadata": {},
   "outputs": [
    {
     "name": "stdout",
     "output_type": "stream",
     "text": [
      "[[10  0  0]\n",
      " [ 0 20  0]\n",
      " [ 0  0 30]]\n"
     ]
    }
   ],
   "source": [
    "#3 make a diagonal matrix\n",
    "import numpy as np\n",
    "x = np.diag([10, 20, 30])\n",
    "print(x)"
   ]
  },
  {
   "cell_type": "code",
   "execution_count": 80,
   "id": "158410b6",
   "metadata": {},
   "outputs": [
    {
     "name": "stdout",
     "output_type": "stream",
     "text": [
      "[[1 0 0 0 0]\n",
      " [0 1 0 0 0]\n",
      " [0 0 1 0 0]\n",
      " [0 0 0 1 0]\n",
      " [0 0 0 0 1]]\n"
     ]
    }
   ],
   "source": [
    "#4 creating a 5 by 5 identity matrix\n",
    "import numpy as np\n",
    "x = np.diag([1, 1, 1, 1, 1])\n",
    "print(x)"
   ]
  },
  {
   "cell_type": "code",
   "execution_count": 83,
   "id": "bf6c0b63",
   "metadata": {},
   "outputs": [
    {
     "name": "stdout",
     "output_type": "stream",
     "text": [
      "\n",
      "original matrix1: \n",
      "\n",
      "[[1, 0], [0, 1]]\n",
      "\n",
      "original matrixz: \n",
      "\n",
      "[[1, 2], [3, 4]]\n",
      "\n",
      "Result of the said matrix multiplication: \n",
      "\n",
      "[[1 2]\n",
      " [3 4]]\n"
     ]
    }
   ],
   "source": [
    "#5 MULTIPLICATION OF TWO MATRIX\n",
    "import numpy as np\n",
    "p = [[1, 0], [0, 1]]\n",
    "q = [[1, 2], [3, 4]]\n",
    "print(\"\\noriginal matrix1: \\n\")\n",
    "print(p)\n",
    "print(\"\\noriginal matrixz: \\n\")\n",
    "print(q)\n",
    "result1 = np.dot(p, q)\n",
    "print(\"\\nResult of the said matrix multiplication: \\n\")\n",
    "print(result1)"
   ]
  },
  {
   "cell_type": "code",
   "execution_count": 84,
   "id": "22cf081e",
   "metadata": {},
   "outputs": [
    {
     "name": "stdout",
     "output_type": "stream",
     "text": [
      "Original array:\n",
      "[(b'abc', 5, 48.5 ) (b'pqr', 6, 52.5 ) (b'xyz', 5, 42.1 )\n",
      " (b'jbw', 5, 40.11)]\n",
      "Sort by height\n",
      "[(b'jbw', 5, 40.11) (b'xyz', 5, 42.1 ) (b'abc', 5, 48.5 )\n",
      " (b'pqr', 6, 52.5 )]\n"
     ]
    }
   ],
   "source": [
    "#6 sorting data of students\n",
    "import numpy as np\n",
    "data_type = [('name', 'S15'), ('class', int), ('height', float)]\n",
    "students_details = [('abc', 5, 48.5), ('pqr', 6, 52.5),('xyz', 5, 42.10), ('jbw', 5, 40.11)]\n",
    "students = np.array(students_details, dtype=data_type)   \n",
    "print(\"Original array:\")\n",
    "print(students)\n",
    "print(\"Sort by height\")\n",
    "print(np.sort(students, order='height'))  "
   ]
  },
  {
   "cell_type": "code",
   "execution_count": 85,
   "id": "b9bb2f64",
   "metadata": {},
   "outputs": [
    {
     "name": "stdout",
     "output_type": "stream",
     "text": [
      "Original array:\n",
      "[(b'abc', 5, 48.5 ) (b'pqr', 6, 52.5 ) (b'xyz', 5, 42.1 )\n",
      " (b'jbw', 5, 40.11)]\n",
      "\n",
      "Sort by height:\n",
      "[(b'jbw', 5, 40.11) (b'xyz', 5, 42.1 ) (b'abc', 5, 48.5 )\n",
      " (b'pqr', 6, 52.5 )]\n"
     ]
    }
   ],
   "source": [
    "#7\n",
    "import numpy as np\n",
    "students_details = np.array([('abc', 5, 48.5), ('pqr', 6, 52.5), ('xyz', 5, 42.10), ('jbw', 5, 40.11)],\n",
    "                           dtype=[('name', 'S15'), ('class', int), ('height', float)])\n",
    "print(\"Original array:\")\n",
    "print(students_details)\n",
    "print(\"\\nSort by height:\")\n",
    "sorted_students = np.sort(students_details, order='height')\n",
    "print(sorted_students)"
   ]
  },
  {
   "cell_type": "code",
   "execution_count": 1,
   "id": "c556e22b",
   "metadata": {},
   "outputs": [
    {
     "name": "stdout",
     "output_type": "stream",
     "text": [
      "First Monday in october 2023:\n",
      "2023-10-02\n"
     ]
    }
   ],
   "source": [
    "#8\n",
    "import numpy as np\n",
    "print(\"First Monday in october 2023:\")\n",
    "print(np.busday_offset('2023-10', 0, roll='forward', weekmask='Mon'))"
   ]
  },
  {
   "cell_type": "code",
   "execution_count": 2,
   "id": "e9938d6a",
   "metadata": {},
   "outputs": [
    {
     "name": "stdout",
     "output_type": "stream",
     "text": [
      "Yestraday:  2023-11-04\n",
      "Today:  2023-11-05\n",
      "Tomorrow:  2023-11-06\n"
     ]
    }
   ],
   "source": [
    "#9\n",
    "import numpy as np\n",
    "yesterday = np.datetime64('today', 'D') - np.timedelta64(1, 'D')\n",
    "print(\"Yestraday: \",yesterday)\n",
    "today     = np.datetime64('today', 'D')\n",
    "print(\"Today: \",today)\n",
    "tomorrow  = np.datetime64('today', 'D') + np.timedelta64(1, 'D')\n",
    "print(\"Tomorrow: \",tomorrow)"
   ]
  },
  {
   "cell_type": "code",
   "execution_count": 9,
   "id": "ac318be9",
   "metadata": {},
   "outputs": [
    {
     "name": "stdout",
     "output_type": "stream",
     "text": [
      "[23 25 13 28 11 10]\n"
     ]
    }
   ],
   "source": [
    "#10\n",
    "import numpy as np\n",
    "x = np.random.randint(low=10, high=30, size=6)\n",
    "print(x)"
   ]
  },
  {
   "cell_type": "markdown",
   "id": "c3770660",
   "metadata": {},
   "source": [
    "# MATPLOTLIB"
   ]
  },
  {
   "cell_type": "code",
   "execution_count": 81,
   "id": "957b547a",
   "metadata": {},
   "outputs": [
    {
     "name": "stdout",
     "output_type": "stream",
     "text": [
      "Plot\n"
     ]
    },
    {
     "data": {
      "image/png": "[encoded data removed]",
      "text/plain": [
       "<Figure size 640x480 with 1 Axes>"
      ]
     },
     "metadata": {},
     "output_type": "display_data"
    }
   ],
   "source": [
    "#1 sine wave\n",
    "import numpy as np\n",
    "import matplotlib.pyplot as plt\n",
    "x = np.arange(0, 3 * np.pi, 0.2)\n",
    "y = np.sin(x)\n",
    "print(\"Plot\")\n",
    "plt.plot(x, y)\n",
    "plt.show()"
   ]
  },
  {
   "cell_type": "code",
   "execution_count": 16,
   "id": "c8480455",
   "metadata": {},
   "outputs": [
    {
     "data": {
      "image/png": "[encoded data removed]",
      "text/plain": [
       "<Figure size 640x480 with 1 Axes>"
      ]
     },
     "metadata": {},
     "output_type": "display_data"
    }
   ],
   "source": [
    "#2 mixed bar graph\n",
    "import numpy as np\n",
    "import matplotlib.pyplot as plt\n",
    "data=[[12,13,14,15,20],[10,20,12,15,21],[12,16,23,21,13],[20,20,12,11,12]]\n",
    "x=np.arange(5)\n",
    "fig=plt.figure()\n",
    "ax=fig.add_axes([0,0,1,1])\n",
    "ax.bar(x+0.00,data[0],color='b',width=0.25)\n",
    "ax.bar(x+0.25,data[1],color='black',width=0.25)\n",
    "ax.bar(x+0.50,data[2],color='r',width=0.25)\n",
    "plt.show()"
   ]
  },
  {
   "cell_type": "code",
   "execution_count": 19,
   "id": "0c872883",
   "metadata": {},
   "outputs": [
    {
     "data": {
      "image/png": "[encoded data removed]",
      "text/plain": [
       "<Figure size 640x480 with 1 Axes>"
      ]
     },
     "metadata": {},
     "output_type": "display_data"
    }
   ],
   "source": [
    "#3 area graph\n",
    "import matplotlib.pyplot as plt\n",
    "import numpy as np\n",
    "x = np.arange(0, 10, 2)\n",
    "a = [1, 1.25, 2, 2.75, 3]\n",
    "b = [1, 1, 1, 1, 1]\n",
    "c = [2, 1, 2, 1, 2]\n",
    "y = np.vstack([ay, by, cy])\n",
    "\n",
    "# plot\n",
    "fig, a = plt.subplots()\n",
    "\n",
    "a.stackplot(x, y)\n",
    "\n",
    "a.set(xlim=(0, 8), xticks=np.arange(1, 8),\n",
    "       ylim=(0, 8), yticks=np.arange(1, 8))\n",
    "\n",
    "plt.show()"
   ]
  },
  {
   "cell_type": "code",
   "execution_count": 27,
   "id": "bd90eb31",
   "metadata": {},
   "outputs": [
    {
     "data": {
      "image/png": "[encoded data removed]",
      "text/plain": [
       "<Figure size 640x480 with 1 Axes>"
      ]
     },
     "metadata": {},
     "output_type": "display_data"
    }
   ],
   "source": [
    "#4\n",
    "import matplotlib.pyplot as plt\n",
    "import numpy as np\n",
    "np.random.seed(1)\n",
    "x = np.linspace(0, 8, 20)\n",
    "y1 = 3 + 4*x/8 + np.random.uniform(0.0, 0.25, len(x))\n",
    "y2 = 1 + 2*x/8 + np.random.uniform(0.0, 0.25, len(x))\n",
    "\n",
    "# plot\n",
    "fig, ax = plt.subplots()\n",
    "\n",
    "ax.fill_between(x, y1, y2, alpha=0.5, linewidth=0)\n",
    "ax.plot(x, (y1 + y2)/2, linewidth=2,)\n",
    "\n",
    "ax.set(xlim=(0, 8), xticks=np.arange(1, 10),\n",
    "       ylim=(0, 8), yticks=np.arange(1, 10))\n",
    "\n",
    "plt.show()"
   ]
  },
  {
   "cell_type": "code",
   "execution_count": 29,
   "id": "49b3e6b0",
   "metadata": {},
   "outputs": [
    {
     "data": {
      "image/png": "[encoded data removed]",
      "text/plain": [
       "<Figure size 640x480 with 1 Axes>"
      ]
     },
     "metadata": {},
     "output_type": "display_data"
    }
   ],
   "source": [
    "#5 scattered plot\n",
    "import matplotlib.pyplot as plt\n",
    "import numpy as np\n",
    "np.random.seed(5)\n",
    "x = 4 + np.random.normal(0, 2, 24)\n",
    "y = 4 + np.random.normal(0, 2, len(x))\n",
    "sizes = np.random.uniform(15, 80, len(x))\n",
    "colors = np.random.uniform(15, 80, len(x))\n",
    "fig, ax = plt.subplots()\n",
    "\n",
    "ax.scatter(x, y, s=sizes, c=colors, vmin=0, vmax=100)\n",
    "\n",
    "ax.set(xlim=(0, 8), xticks=np.arange(1, 8),\n",
    "       ylim=(0, 8), yticks=np.arange(1, 8))\n",
    "\n",
    "plt.show()"
   ]
  },
  {
   "cell_type": "code",
   "execution_count": 30,
   "id": "d779169a",
   "metadata": {},
   "outputs": [
    {
     "data": {
      "image/png": "[encoded data removed]",
      "text/plain": [
       "<Figure size 640x480 with 1 Axes>"
      ]
     },
     "metadata": {},
     "output_type": "display_data"
    }
   ],
   "source": [
    "#6 stem plot\n",
    "import matplotlib.pyplot as plt\n",
    "import numpy as np\n",
    "x = 0.5 + np.arange(8)\n",
    "y = [4.5, 5.5, 3.5, 4.6, 6.5, 6.0, 2.6, 5.0]\n",
    "fig, ax = plt.subplots()\n",
    "ax.stem(x, y)\n",
    "ax.set(xlim=(0, 8), xticks=np.arange(1, 8),\n",
    "       ylim=(0, 8), yticks=np.arange(1, 8))\n",
    "\n",
    "plt.show()"
   ]
  },
  {
   "cell_type": "code",
   "execution_count": 32,
   "id": "20aa0afe",
   "metadata": {},
   "outputs": [
    {
     "data": {
      "image/png": "[encoded data removed]",
      "text/plain": [
       "<Figure size 640x480 with 1 Axes>"
      ]
     },
     "metadata": {},
     "output_type": "display_data"
    }
   ],
   "source": [
    "#7 step plot\n",
    "import matplotlib.pyplot as plt\n",
    "import numpy as np\n",
    "y = [1,2,3,4,5,6,7]\n",
    "fig, ax = plt.subplots()\n",
    "ax.stairs(y, linewidth=2.5)\n",
    "ax.set(xlim=(0, 8), xticks=np.arange(1, 8),\n",
    "       ylim=(0, 8), yticks=np.arange(1, 8))\n",
    "\n",
    "plt.show()\n",
    "\n"
   ]
  },
  {
   "cell_type": "code",
   "execution_count": 33,
   "id": "341aecae",
   "metadata": {},
   "outputs": [
    {
     "data": {
      "image/png": "[encoded data removed]",
      "text/plain": [
       "<Figure size 640x480 with 1 Axes>"
      ]
     },
     "metadata": {},
     "output_type": "display_data"
    }
   ],
   "source": [
    "#8 reverse step plot\n",
    "import matplotlib.pyplot as plt\n",
    "import numpy as np\n",
    "y = [10,9,8,7,6,5,4,3,2,1,0]\n",
    "fig, ax = plt.subplots()\n",
    "ax.stairs(y, linewidth=2.5)\n",
    "ax.set(xlim=(0, 8), xticks=np.arange(1, 8),\n",
    "       ylim=(0, 8), yticks=np.arange(1, 8))\n",
    "\n",
    "plt.show()"
   ]
  },
  {
   "cell_type": "code",
   "execution_count": 39,
   "id": "3bd3bd81",
   "metadata": {},
   "outputs": [
    {
     "data": {
      "image/png": "[encoded data removed]",
      "text/plain": [
       "<Figure size 640x480 with 1 Axes>"
      ]
     },
     "metadata": {},
     "output_type": "display_data"
    }
   ],
   "source": [
    "#9\n",
    "import matplotlib.pyplot as plt\n",
    "import numpy as np\n",
    "np.random.seed(1)\n",
    "x = 4 + np.random.normal(0, 1.25, 180)\n",
    "fig, ax = plt.subplots()\n",
    "\n",
    "ax.hist(x, bins=8, linewidth=0.5, edgecolor=\"white\")\n",
    "\n",
    "ax.set(xlim=(0, 10), xticks=np.arange(1, 8),\n",
    "       ylim=(0, 50), yticks=np.linspace(0, 56, 9))\n",
    "\n",
    "plt.show()"
   ]
  },
  {
   "cell_type": "code",
   "execution_count": 40,
   "id": "3bd9cdd6",
   "metadata": {},
   "outputs": [
    {
     "name": "stdout",
     "output_type": "stream",
     "text": [
      "Plot\n"
     ]
    },
    {
     "data": {
      "image/png": "[encoded data removed]",
      "text/plain": [
       "<Figure size 640x480 with 1 Axes>"
      ]
     },
     "metadata": {},
     "output_type": "display_data"
    }
   ],
   "source": [
    "#10\n",
    "import numpy as np\n",
    "import matplotlib.pyplot as plt\n",
    "x = np.arange(0, 3 * np.pi, 0.2)\n",
    "y = np.cos(x)\n",
    "print(\"Plot\")\n",
    "plt.plot(x, y)\n",
    "plt.show()"
   ]
  },
  {
   "cell_type": "code",
   "execution_count": null,
   "id": "53e75717",
   "metadata": {},
   "outputs": [],
   "source": []
  }
 ],
 "metadata": {
  "kernelspec": {
   "display_name": "Python 3 (ipykernel)",
   "language": "python",
   "name": "python3"
  },
  "language_info": {
   "codemirror_mode": {
    "name": "ipython",
    "version": 3
   },
   "file_extension": ".py",
   "mimetype": "text/x-python",
   "name": "python",
   "nbconvert_exporter": "python",
   "pygments_lexer": "ipython3",
   "version": "3.11.3"
  }
 },
 "nbformat": 4,
 "nbformat_minor": 5
}
